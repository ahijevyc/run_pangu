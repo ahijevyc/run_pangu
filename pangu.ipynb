{
 "cells": [
  {
   "cell_type": "markdown",
   "id": "444f406d-f8f3-4874-9216-0c2b5656a543",
   "metadata": {},
   "source": [
    "works with kernel Python \\[conda env:pangu] as constructed in README\n",
    "\n",
    "run fengwu with 1 GPU and 20 GB memory (must be v100, not gp100 because gp100 only has 16 GB VRAM, but v100 has 32GB)\n",
    "\n",
    "Make these the default casper modules `module save`\n",
    "\n",
    "```\n",
    "Currently Loaded Modules:\n",
    "  1) ncarenv/24.12  (S)   3) ncarcompilers/1.0.0   5) ucx/1.17.0      7) hdf5/1.12.3    9) cudnn/9.2.0.82-12\n",
    "  2) intel/2024.2.1       4) cuda/12.3.2           6) openmpi/5.0.6   8) netcdf/4.9.2  10) conda/latest\n",
    "```\n",
    "\n",
    "Inferences in conda env:ainwp is different by 0.0001 K from pangu env (after 240 hours)\n",
    "conda env:ainwp is supposed to replicate realtime runs, but still 0.1 K different from realtime runs"
   ]
  },
  {
   "cell_type": "code",
   "execution_count": 1,
   "id": "bae6db05-1530-4422-8c90-d07619be1698",
   "metadata": {},
   "outputs": [],
   "source": [
    "import argparse\n",
    "import os\n",
    "import subprocess\n",
    "from pathlib import Path\n",
    "\n",
    "import earthkit.data as ekd\n",
    "import pandas as pd\n",
    "import xarray\n",
    "from run_pangu import plot_ensemble\n",
    "from run_pangu.s3_run_fengwu_ecmwf import (\n",
    "    pressure_levels,\n",
    "    variables,\n",
    ")\n",
    "\n",
    "ai_models_dir = Path(\"/glade/derecho/scratch/ahijevyc/ai-models\")\n",
    "date = pd.to_datetime(\"2024042500\", format=\"%Y%m%d%H\")\n",
    "ic = \"gefs\"  # \"gefs\" (GFS Ensemble Forecast System) or \"ens\" (ECMWF's Ensemble Prediction System)\n",
    "fhr_end = 24"
   ]
  },
  {
   "cell_type": "code",
   "execution_count": 2,
   "id": "0f3eb8a4-c7ce-46f4-b743-5863575b0384",
   "metadata": {},
   "outputs": [
    {
     "name": "stdout",
     "output_type": "stream",
     "text": [
      "Linux crhtc73 5.14.21-150400.24.46-default #1 SMP PREEMPT_DYNAMIC Thu Feb 9 08:38:18 UTC 2023 (2d95137) x86_64 x86_64 x86_64 GNU/Linux\n"
     ]
    }
   ],
   "source": [
    "!uname -a"
   ]
  },
  {
   "cell_type": "code",
   "execution_count": 3,
   "id": "1c8148c6-dbc1-4bde-b255-08e53a750928",
   "metadata": {},
   "outputs": [],
   "source": [
    "def ai_input_nc(nc):\n",
    "    input = xarray.open_dataset(nc)\n",
    "    sfc_param = [\"u10m\", \"v10m\", \"t2m\", \"msl\"]\n",
    "    pl_param = [f\"{f}{p}\" for f in variables for p in pressure_levels]\n",
    "    fields_all = []\n",
    "    for p in sfc_param + pl_param:\n",
    "        field = input[\"__xarray_dataarray_variable__\"].sel(channel=p).squeeze().values\n",
    "        fields_all.append(field)\n",
    "    return np.stack(fields_all)"
   ]
  },
  {
   "cell_type": "code",
   "execution_count": null,
   "id": "9c5f81b5-5cf2-47e5-b0b1-fd7f2391f9c2",
   "metadata": {},
   "outputs": [],
   "source": [
    "if ic == \"gefs\":\n",
    "    mems = [\"c00\"] + [f\"p{m:02d}\" for m in range(1, 31)]\n",
    "    files = [\n",
    "        ai_models_dir\n",
    "        / \"input\"\n",
    "        / date.strftime(\"%Y%m%d%H\")\n",
    "        / mem\n",
    "        / f\"ge{mem}.t{date:%H}z.pgrb.0p25.f000\"\n",
    "        for mem in mems\n",
    "    ]\n",
    "    opfx = \"ge\"\n",
    "elif ic == \"ens\":\n",
    "    assert date > pd.to_datetime(\n",
    "        \"20250209\"\n",
    "    ), \"started saving ECMWF ensemble forecast (ens) after 20250209\"\n",
    "    mems = [f\"ens{m}\" for m in range(0, 51)]\n",
    "    # 2025 realtime input in Ryan's scratch directory\n",
    "    files = [\n",
    "        f\"/glade/derecho/scratch/sobash/pangu_realtime/{date:%Y%m%d%H}/{mem}/{mem}_analysis_{date:%Y%m%d%H}.grib2\"\n",
    "        for mem in mems\n",
    "    ]\n",
    "    opfx = \"\"\n",
    "\n",
    "for mem, file in zip(mems, files):\n",
    "    odir = ai_models_dir / f\"output/panguweather/{date:%Y%m%d%H}\"\n",
    "    path = odir / f\"{opfx}{mem}.grib\"\n",
    "    os.makedirs(odir, exist_ok=True)\n",
    "    if os.path.exists(path):\n",
    "        continue\n",
    "    command = [\n",
    "        \"ai-models\",\n",
    "        \"panguweather\",\n",
    "        \"--input=file\",\n",
    "        f\"--file={file}\",\n",
    "        f\"--assets={ai_models_dir}\",\n",
    "        \"--output=file\",\n",
    "        f\"--path={path}\",\n",
    "        f\"--lead-time={fhr_end}\",\n",
    "    ]\n",
    "\n",
    "    print(\"Executing command:\")\n",
    "    # Use a single space to join list elements for printing\n",
    "    print(\" \".join(command))\n",
    "\n",
    "    # 3. Run the command\n",
    "    try:\n",
    "        # Use subprocess.run to execute the command.\n",
    "        # check=True will raise an exception if the command fails.\n",
    "        # capture_output=True and text=True will capture stdout/stderr as text.\n",
    "        result = subprocess.run(command, check=True, capture_output=True, text=True)\n",
    "        print(\"STDOUT:\", result.stdout)\n",
    "        print(f\"SUCCESS: Forecast for {date.strftime('%Y-%m-%d')} completed.\")\n",
    "\n",
    "    except subprocess.CalledProcessError as e:\n",
    "        # This block will run if the command returns a non-zero exit code (i.e., fails)\n",
    "        print(f\"ERROR: The command for {date.strftime('%Y-%m-%d')} failed.\")\n",
    "        print(\"Return Code:\", e.returncode)\n",
    "        print(\"STDOUT:\", e.stdout)\n",
    "        print(\"STDERR:\", e.stderr)\n",
    "        # Use 'break' if you want the loop to stop after the first failure\n",
    "        break\n",
    "\n",
    "    print(\"-\" * 40)"
   ]
  },
  {
   "cell_type": "code",
   "execution_count": null,
   "id": "418d9a52-a542-458a-ab01-f8dbf36be2b3",
   "metadata": {},
   "outputs": [],
   "source": [
    "args = argparse.Namespace\n",
    "args.ic = ic.upper()\n",
    "args.model = \"panguweather\"\n",
    "ifiles = (ai_models_dir / f\"output/{args.model}/{date:%Y%m%d%H}\").glob(f\"{opfx}*[0-9].grib\")\n",
    "ifiles = sorted(list(ifiles))\n",
    "print(len(ifiles))\n",
    "da = (\n",
    "    xarray.concat(\n",
    "        [\n",
    "            ekd.from_source_lazily(\"file\", ifile)\n",
    "            .sel(shortName=\"z\", level=500)\n",
    "            .to_xarray(engine=\"cfgrib\")\n",
    "            # adapt longitude slice for 0-360 or -180-180\n",
    "            .assign_coords(longitude=lambda ds: ds.longitude % 360)\n",
    "            .sel(latitude=slice(60, 20), longitude=slice(220, 300))\n",
    "            for ifile in ifiles\n",
    "        ],\n",
    "        dim=\"number\",\n",
    "    )\n",
    "    .squeeze()\n",
    "    .rename(time=\"init_time\", number=\"mem\")\n",
    ")\n",
    "da"
   ]
  },
  {
   "cell_type": "code",
   "execution_count": null,
   "id": "45989246-f08b-442f-a8a8-5be152e30843",
   "metadata": {},
   "outputs": [],
   "source": [
    "fig = plot_ensemble.plot_forecast_grid(args, da.sortby(\"mem\"), plotdays=[1, 2, 3, 4, 5, 6, 7, 8])"
   ]
  },
  {
   "cell_type": "code",
   "execution_count": null,
   "id": "48071aec-55aa-4a90-b0e0-3cef6726a864",
   "metadata": {},
   "outputs": [],
   "source": []
  }
 ],
 "metadata": {
  "kernelspec": {
   "display_name": "Python [conda env:pangu]",
   "language": "python",
   "name": "conda-env-pangu-py"
  },
  "language_info": {
   "codemirror_mode": {
    "name": "ipython",
    "version": 3
   },
   "file_extension": ".py",
   "mimetype": "text/x-python",
   "name": "python",
   "nbconvert_exporter": "python",
   "pygments_lexer": "ipython3",
   "version": "3.11.9"
  }
 },
 "nbformat": 4,
 "nbformat_minor": 5
}

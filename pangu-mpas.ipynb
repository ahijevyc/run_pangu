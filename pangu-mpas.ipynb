{
 "cells": [
  {
   "cell_type": "markdown",
   "id": "444f406d-f8f3-4874-9216-0c2b5656a543",
   "metadata": {},
   "source": [
    "works with kernel Python \\[conda env:pangu] as constructed in README\n",
    "\n",
    "run fengwu with 1 GPU and 20 GB memory (must be v100, not gp100 because gp100 only has 16 GB VRAM, but v100 has 32GB)\n",
    "\n",
    "Make these the default casper modules `module save`\n",
    "\n",
    "```\n",
    "Currently Loaded Modules:\n",
    "  1) ncarenv/24.12  (S)   3) ncarcompilers/1.0.0   5) ucx/1.17.0      7) hdf5/1.12.3    9) cudnn/9.2.0.82-12\n",
    "  2) intel/2024.2.1       4) cuda/12.3.2           6) openmpi/5.0.6   8) netcdf/4.9.2  10) conda/latest\n",
    "```\n",
    "\n",
    "Inferences in conda env:ainwp is different by 0.0001 K from pangu env (after 240 hours)\n",
    "conda env:ainwp is supposed to replicate realtime runs, but still 0.1 K different from realtime runs"
   ]
  },
  {
   "cell_type": "code",
   "execution_count": null,
   "id": "bf290d10-6928-4d9c-a204-48a295d6d15e",
   "metadata": {},
   "outputs": [],
   "source": [
    "import argparse\n",
    "import concurrent.futures\n",
    "import os\n",
    "import subprocess\n",
    "from pathlib import Path\n",
    "from typing import List, Union\n",
    "\n",
    "import earthkit.data as ekd\n",
    "import pandas as pd\n",
    "import uxarray\n",
    "import xarray\n",
    "from hwt_mpas import MPASDataSource\n",
    "from run_pangu import plot_ensemble\n",
    "from run_pangu.s3_run_fengwu_ecmwf import fengwu_channels, pressure_levels, variables\n",
    "from run_pangu.s3_run_pangu_ecmwf import run_inference, setup_model_sessions\n",
    "from run_pangu.utils.xtime import xtime\n",
    "\n",
    "ai_models_dir = Path(\"/glade/derecho/scratch/ahijevyc/ai-models\")\n",
    "date = pd.to_datetime(\"2024042500\", format=\"%Y%m%d%H\")\n",
    "ic = \"mpas\"\n",
    "fhr_end = 240"
   ]
  },
  {
   "cell_type": "code",
   "execution_count": null,
   "id": "0f3eb8a4-c7ce-46f4-b743-5863575b0384",
   "metadata": {},
   "outputs": [],
   "source": [
    "!uname -a"
   ]
  },
  {
   "cell_type": "code",
   "execution_count": null,
   "id": "2974121d-7337-47aa-9bc3-172c0970e2fc",
   "metadata": {},
   "outputs": [],
   "source": [
    "mpas_datasrc = MPASDataSource(0)\n",
    "ds_mpas = mpas_datasrc(date)\n",
    "\n",
    "ds_mpas"
   ]
  },
  {
   "cell_type": "code",
   "execution_count": null,
   "id": "68e09aea-6190-46a3-be36-e843c2657b60",
   "metadata": {},
   "outputs": [],
   "source": [
    "ort_session_24, ort_session_6 = setup_model_sessions(ai_models_dir)"
   ]
  },
  {
   "cell_type": "code",
   "execution_count": null,
   "id": "d8c91676-7125-4dfe-b7af-9dd21b1364d9",
   "metadata": {
    "scrolled": true
   },
   "outputs": [],
   "source": [
    "output_dir = Path(\"/glade/derecho/scratch/ahijevyc/ai-models/output/panguweather\") / date.strftime(\n",
    "    \"%Y%m%d%H\"\n",
    ")\n",
    "for member in range(1, 11):\n",
    "    all_exist = True\n",
    "    for fhr in range(6, fhr_end+1, 6):\n",
    "        output_filename = os.path.join(output_dir, f\"pangu_{ic}{member}_pred_{fhr:03.0f}.nc\")\n",
    "        if not os.path.exists(output_filename):\n",
    "            print(output_filename, 'no exists')\n",
    "            all_exist = False\n",
    "            break\n",
    "    if all_exist:\n",
    "        print(f\"all {date} {ic}{member} exist\")\n",
    "        continue\n",
    "    inferences = run_inference(ds_mpas.sel(member=member), ort_session_24, ort_session_6, fhr_end)\n",
    "    for fcst in inferences:\n",
    "        fhr = fcst.prediction_timedelta.squeeze() / pd.to_timedelta(\"1h\")\n",
    "        output_filename = os.path.join(output_dir, f\"pangu_{ic}{member}_pred_{fhr:03.0f}.nc\")\n",
    "        print(output_filename)\n",
    "        fcst.to_netcdf(output_filename)"
   ]
  },
  {
   "cell_type": "code",
   "execution_count": null,
   "id": "f17a9536-a9ef-4d18-8511-27222f61aa1d",
   "metadata": {},
   "outputs": [],
   "source": [
    "inferences = xarray.open_mfdataset(output_dir.glob(f\"pangu_{ic}{member}_pred_???.nc\"))\n",
    "inferences.sel(channel=\"z1000\").squeeze().__xarray_dataarray_variable__.plot(col=\"prediction_timedelta\", col_wrap=6)"
   ]
  },
  {
   "cell_type": "code",
   "execution_count": null,
   "id": "72348578-6487-4e46-b64b-1df371645d7c",
   "metadata": {},
   "outputs": [],
   "source": [
    "inferences"
   ]
  },
  {
   "cell_type": "code",
   "execution_count": null,
   "id": "2dacf6eb-2ecb-4bb9-ae57-c8cbe3f0c5cb",
   "metadata": {},
   "outputs": [],
   "source": []
  }
 ],
 "metadata": {
  "kernelspec": {
   "display_name": "Python [conda env:pangu]",
   "language": "python",
   "name": "conda-env-pangu-py"
  },
  "language_info": {
   "codemirror_mode": {
    "name": "ipython",
    "version": 3
   },
   "file_extension": ".py",
   "mimetype": "text/x-python",
   "name": "python",
   "nbconvert_exporter": "python",
   "pygments_lexer": "ipython3",
   "version": "3.11.9"
  }
 },
 "nbformat": 4,
 "nbformat_minor": 5
}
